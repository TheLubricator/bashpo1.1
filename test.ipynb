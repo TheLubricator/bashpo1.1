{
 "cells": [
  {
   "cell_type": "code",
   "execution_count": null,
   "metadata": {},
   "outputs": [
    {
     "name": "stdout",
     "output_type": "stream",
     "text": [
      "duskbloods\n",
      "['duskbloods']\n",
      "duskbloods\n"
     ]
    }
   ],
   "source": [
    "txt=\"duskbloods\"\n",
    "a=txt.split(\" \")\n",
    "c=\"%\".join(a)\n",
    "print(c)\n",
    "d=c.split(\"%\")\n",
    "print(d)\n",
    "e=\" \".join(d)\n",
    "print(e)"
   ]
  },
  {
   "cell_type": "code",
   "execution_count": null,
   "metadata": {},
   "outputs": [],
   "source": []
  },
  {
   "cell_type": "code",
   "execution_count": 3,
   "metadata": {},
   "outputs": [
    {
     "name": "stdout",
     "output_type": "stream",
     "text": [
      "Teacher aaa added to student's list.\n",
      "Student bbb added to teacher's list.\n",
      "Teacher aaa added to student's list.\n",
      "Student ccc added to teacher's list.\n",
      "Teacher aaa added to student's list.\n",
      "Student ddd added to teacher's list.\n",
      "['bbb', 'ccc', 'ddd']\n",
      "['aaa']\n"
     ]
    }
   ],
   "source": [
    "class Teacher:\n",
    "\tdef __init__(self,name):\n",
    "\t\tself.students=[]\n",
    "\t\tself.name=name\n",
    "\tdef attach_student(self, student):\n",
    "\t\tself.students.append(student.name)\n",
    "\t\tprint(f\"Student {student.name} added to teacher's list.\")\n",
    "class Student:\n",
    "\tdef __init__(self,name):                             \n",
    "\t\tself.teachers=[]\n",
    "\t\tself.name=name\n",
    "\tdef add_teachers(self,teacher):\n",
    "\t\tself.teachers.append(teacher.name)\n",
    "\t\tprint(f\"Teacher {teacher.name} added to student's list.\")\n",
    "\t\tteacher.attach_student(self)\n",
    "\t\t\n",
    "teacher1 = Teacher(\"aaa\")\n",
    "student1= Student(\"bbb\")\n",
    "student2= Student(\"ccc\")\n",
    "student3= Student(\"ddd\")\n",
    "\n",
    "student1.add_teachers(teacher1)\n",
    "student2.add_teachers(teacher1)\n",
    "student3.add_teachers(teacher1)\n",
    "\n",
    "print(teacher1.students)\n",
    "print(student1.teachers)\n",
    "\n"
   ]
  },
  {
   "cell_type": "code",
   "execution_count": 10,
   "metadata": {},
   "outputs": [
    {
     "name": "stdout",
     "output_type": "stream",
     "text": [
      "Celebrity aaa added to fan's list.\n",
      "Fan bbb added to celebrity named aaa list.\n",
      "Celebrity aaa added to fan's list.\n",
      "Fan ccc added to celebrity named aaa list.\n",
      "Celebrity aaa added to fan's list.\n",
      "Fan ddd added to celebrity named aaa list.\n",
      "Celebrity aaa added to fan's list.\n",
      "Fan eee added to celebrity named aaa list.\n",
      "Fan bbb is happy.\n",
      "Fan ccc is happy.\n",
      "Fan ddd is happy.\n",
      "Fan eee is happy.\n",
      "\n",
      "Fan bbb is sad.\n",
      "Fan ccc is sad.\n",
      "Fan ddd is sad.\n",
      "Fan eee is sad.\n"
     ]
    }
   ],
   "source": [
    "class Celebrity:\n",
    "    def __init__(self,name):\n",
    "        self.name=name\n",
    "        self.fans=[]\n",
    "        self.state=False\n",
    "    def add_fans(self,fans):\n",
    "        self.fans.append(fans)\n",
    "        print(f\"Fan {fans.name} added to celebrity named {self.name} list.\")\n",
    "    def notify_fans(self):\n",
    "        for fan in self.fans:\n",
    "            fan.update(self)\n",
    "    def set_state(self,state):\n",
    "        self.state=state\n",
    "        self.notify_fans()\n",
    "    def get_state(self):\n",
    "        return self.state\n",
    "    \n",
    "class Fan:\n",
    "    def __init__(self,name):\n",
    "        self.name=name\n",
    "        self.celebrity=[]\n",
    "    def update(self,celebrity):\n",
    "        state=celebrity.get_state()\n",
    "        if state==True:\n",
    "            print(f\"Fan {self.name} is happy.\")\n",
    "        else:\n",
    "            print(f\"Fan {self.name} is sad.\")\n",
    "    def add_celebrity(self,celebrity):\n",
    "        self.celebrity.append(celebrity)\n",
    "        print(f\"Celebrity {celebrity.name} added to fan's list.\")\n",
    "        celebrity.add_fans(self)\n",
    "\n",
    "celebrity1=Celebrity(\"aaa\")\n",
    "fan1=Fan(\"bbb\")\n",
    "fan2=Fan(\"ccc\")\n",
    "fan3=Fan(\"ddd\")\n",
    "fan4=Fan(\"eee\")\n",
    "fans=[fan1,fan2,fan3,fan4]\n",
    "for i in fans:\n",
    "    i.add_celebrity(celebrity1)\n",
    "\n",
    "celebrity1.set_state(True)\n",
    "print()\n",
    "celebrity1.set_state(False)\n"
   ]
  },
  {
   "cell_type": "code",
   "execution_count": 13,
   "metadata": {},
   "outputs": [
    {
     "name": "stdout",
     "output_type": "stream",
     "text": [
      "{\"success\":true,\"message\":\"Your email has been queued for delivery.\"}\n"
     ]
    }
   ],
   "source": [
    "import requests\n",
    "import json\n",
    "\n",
    "url = \"https://smtp.maileroo.com/send-template\"\n",
    "headers = {\"X-API-Key\": \"7041b51838bf5de44b2e743aa4cc86633042f375fae62e95f6239f1d514ada9b\"}\n",
    "\n",
    "# Data payload\n",
    "data = {\n",
    "    \"from\": \"bashpo-noreply@b75300127eed9386.maileroo.org\",\n",
    "    \"to\": \"To faiyaz <noobarmy404@gmail.com>\",\n",
    "    \"subject\": \"Test Email\",\n",
    "    \"template_id\": \"100\",\n",
    "    \"template_data\": json.dumps({\"first_name\": \"First\", \"last_name\": \"Last\"})  # Ensure this is a string\n",
    "}\n",
    "\n",
    "# Make the POST request\n",
    "response = requests.post(url, headers=headers, data=data)\n",
    "\n",
    "# Print the response from the server\n",
    "print(response.text)\n"
   ]
  },
  {
   "cell_type": "code",
   "execution_count": 10,
   "metadata": {},
   "outputs": [
    {
     "name": "stdout",
     "output_type": "stream",
     "text": [
      "{\"success\":true,\"message\":\"Your email has been queued for delivery.\"}\n"
     ]
    }
   ],
   "source": [
    "import requests\n",
    "\n",
    "url = \"https://smtp.maileroo.com/send\"\n",
    "\n",
    "payload = {\n",
    "    'from': 'bashpo-noreply@b75300127eed9386.maileroo.org',\n",
    "    'to': 'To Name <noobarmy404@gmail.com>',\n",
    "    'subject': 'Test Email',\n",
    "    'plain': 'This is a test email.',\n",
    "    'html': '<b>This is a test email.</b>'\n",
    "}\n",
    "\n",
    "headers = {\n",
    "    'X-API-Key': \"7041b51838bf5de44b2e743aa4cc86633042f375fae62e95f6239f1d514ada9b\"\n",
    "}\n",
    "\n",
    "response = requests.request(\"POST\", url, headers=headers, data=payload)\n",
    "\n",
    "print(response.text)\n"
   ]
  },
  {
   "cell_type": "code",
   "execution_count": 1,
   "metadata": {},
   "outputs": [
    {
     "name": "stdout",
     "output_type": "stream",
     "text": [
      "[('faiyaz',), ('test_buyer',)]\n"
     ]
    }
   ],
   "source": [
    "import sqlite3 \n",
    "def wishlist_check(gamename):\n",
    "    db=sqlite3.connect(\"bashpos_--definitely--_secured_database.db\")\n",
    "    c=db.cursor()\n",
    "    c.execute(\"SELECT username FROM WISHLIST WHERE game_name=?\",(gamename,))\n",
    "    data=c.fetchall()\n",
    "    if len(data)==0:\n",
    "        return False\n",
    "    else:\n",
    "        return data\n",
    "print(wishlist_check(\"Grand Theft Auto V\"))"
   ]
  },
  {
   "cell_type": "code",
   "execution_count": 3,
   "metadata": {},
   "outputs": [
    {
     "name": "stdout",
     "output_type": "stream",
     "text": [
      "{\"success\":true,\"message\":\"Your email has been queued for delivery.\"}\n"
     ]
    }
   ],
   "source": [
    "import requests\n",
    "class GlobalVar:\n",
    "    def __init__(self,value):\n",
    "        self.value=value\n",
    "\n",
    "Mailroo_api_key=GlobalVar(\"7041b51838bf5de44b2e743aa4cc86633042f375fae62e95f6239f1d514ada9b\")\n",
    "def send_wishlist_notfification_email(username,email,game_name,sale_percentage_value,sale_end_date):\n",
    "    # Send an email to the user about the sale\n",
    "    \n",
    "\n",
    "    url = \"https://smtp.maileroo.com/send\"\n",
    "\n",
    "    payload = {\n",
    "        'from': 'bashpo-noreply@b75300127eed9386.maileroo.org',\n",
    "        'to': f'To {username} <{email}>',\n",
    "        'subject': f'{game_name} just went on sale!',\n",
    "        'plain': 'This is a test email.',\n",
    "        'html': f'<b>Hello {username}</b><p>We are excited to inform you that the game <b>{game_name}</b> is now on sale for <b>{sale_percentage_value}%</b> off! The sale ends on <b>{sale_end_date}</b>.</p>'\n",
    "                '<p>Don\\'t miss out on this opportunity to grab your favorite game at a discounted price!</p>'\n",
    "    }\n",
    "\n",
    "    headers = {\n",
    "        'X-API-Key': Mailroo_api_key.value,\n",
    "    }\n",
    "\n",
    "    response = requests.request(\"POST\", url, headers=headers, data=payload)\n",
    "\n",
    "    print(response.text)\n",
    "send_wishlist_notfification_email(\"faiyaz\",\"noobarmy404@gmail.com\",\"Grand Theft Auto V\", 50, \"2023-12-31\")"
   ]
  }
 ],
 "metadata": {
  "kernelspec": {
   "display_name": "base",
   "language": "python",
   "name": "python3"
  },
  "language_info": {
   "codemirror_mode": {
    "name": "ipython",
    "version": 3
   },
   "file_extension": ".py",
   "mimetype": "text/x-python",
   "name": "python",
   "nbconvert_exporter": "python",
   "pygments_lexer": "ipython3",
   "version": "3.12.7"
  }
 },
 "nbformat": 4,
 "nbformat_minor": 2
}
